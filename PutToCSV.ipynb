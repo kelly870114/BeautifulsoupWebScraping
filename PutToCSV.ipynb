{
 "cells": [
  {
   "cell_type": "code",
   "execution_count": 1,
   "id": "0f230bca",
   "metadata": {},
   "outputs": [
    {
     "name": "stdout",
     "output_type": "stream",
     "text": [
      "['GitHub - martykan/forecastie: A simple, opensource weather app for Android.', '        689      ', 'Java90.9%']\n",
      "['GitHub - owncloud/android: The ownCloud Android App', '        3.2k      ', 'Kotlin56.5%']\n",
      "['GitHub - louisdh/textor: A plain text editor for iOS', '        569      ', 'Swift97.8%']\n",
      "['GitHub - libimobiledevice/ideviceinstaller: Manage apps of iOS devices', '        815      ', 'C90.0%']\n",
      "['GitHub - benoitletondor/EasyBudget: Budget management app for Android', '        92      ', 'Kotlin80.3%']\n",
      "['GitHub - shrikanth7698/Zinger-Android-App: Zinger is an android app to order food within a campus, tech park or mall with many outlets to avoid long waiting time or get it delivered anywhere within a specific place', '        66      ', 'Kotlin98.4%']\n",
      "['GitHub - cometchat-pro/ios-swift-chat-app: Open-source Voice & Video Calling and Text Chat App for Swift (iOS)', '        95      ', 'Swift100.0%']\n",
      "['GitHub - zntfdr/Compass: A Minimal Compass iOS App 🧭', '        70      ', 'Swift100.0%']\n"
     ]
    }
   ],
   "source": [
    "# Read CSV\n",
    "\n",
    "import csv\n",
    "\n",
    "# 開啟 CSV 檔案\n",
    "with open('beautifulsoup.csv', newline='',encoding='utf-8-sig') as csvfile:\n",
    "\n",
    "  # 讀取 CSV 檔案內容\n",
    "  rows = csv.reader(csvfile)\n",
    "\n",
    "  # 以迴圈輸出每一列\n",
    "  for row in rows:\n",
    "    print(row)"
   ]
  },
  {
   "cell_type": "code",
   "execution_count": null,
   "id": "7ed9c10d",
   "metadata": {},
   "outputs": [],
   "source": [
    "#Write Scrape Files to CSV\n",
    "\n",
    "import csv\n",
    "from bs4 import BeautifulSoup\n",
    "from urllib.request import urlopen\n",
    "import requests\n",
    "import pprint\n",
    "import re\n",
    "\n",
    "\n",
    "urls = ['https://github.com/martykan/forecastie', 'https://github.com/owncloud/android', \n",
    "        'https://github.com/louisdh/textor', 'https://github.com/libimobiledevice/ideviceinstaller',\n",
    "        'https://github.com/benoitletondor/EasyBudget', 'https://github.com/shrikanth7698/Zinger-Android-App',\n",
    "        'https://github.com/cometchat-pro/ios-swift-chat-app','https://github.com/zntfdr/Compass']\n",
    "\n",
    "#scrape elements\n",
    "for url in urls:\n",
    "    response = requests.get(url)\n",
    "    soup = BeautifulSoup(response.content, \"html.parser\")\n",
    "\n",
    "    #print title\n",
    "    titleTemp = soup.find('title').get_text()\n",
    "    title = titleTemp.replace('\\n','')\n",
    "    print(\"Title: \",title)\n",
    "    \n",
    "    #print stars\n",
    "    starsTemp = soup.find(class_= \"social-count js-social-count\").get_text()\n",
    "    stars = starsTemp.replace('\\n','')\n",
    "    print(\"stars:\", stars)\n",
    "    \n",
    "    \n",
    "    #print language(primary)\n",
    "    langTemp = soup.find(class_=\"d-inline-flex flex-items-center flex-nowrap Link--secondary no-underline text-small mr-3\").get_text()\n",
    "    lang = langTemp.replace('\\n','')\n",
    "    print(\"Primary language:\", lang)\n",
    "\n",
    "    # 開啟輸出的 CSV 檔案\n",
    "    with open('beautifulsoup.csv', 'a+', newline='',encoding='utf-8-sig') as csvfile:\n",
    "    # 建立 CSV 檔寫入器\n",
    "        writer = csv.writer(csvfile)\n",
    "        writer.writerow([title, stars, lang])\n",
    "\n"
   ]
  }
 ],
 "metadata": {
  "kernelspec": {
   "display_name": "Python 3",
   "language": "python",
   "name": "python3"
  },
  "language_info": {
   "codemirror_mode": {
    "name": "ipython",
    "version": 3
   },
   "file_extension": ".py",
   "mimetype": "text/x-python",
   "name": "python",
   "nbconvert_exporter": "python",
   "pygments_lexer": "ipython3",
   "version": "3.8.8"
  }
 },
 "nbformat": 4,
 "nbformat_minor": 5
}
